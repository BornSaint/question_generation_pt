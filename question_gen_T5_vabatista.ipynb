{
 "cells": [
  {
   "cell_type": "code",
   "execution_count": null,
   "metadata": {},
   "outputs": [],
   "source": [
    "\n",
    "# model_id = 'pierreguillou/t5-base-qa-squad-v1.1-portuguese'\n",
    "# model_id = 'unicamp-dl/ptt5-small-t5-vocab'\n",
    "# model_id = 'unicamp-dl/ptt5-base-portuguese-vocab'"
   ]
  },
  {
   "cell_type": "code",
   "execution_count": null,
   "metadata": {},
   "outputs": [
    {
     "name": "stderr",
     "output_type": "stream",
     "text": [
      "/home/r/anaconda3/envs/study/lib/python3.10/site-packages/transformers/models/t5/tokenization_t5.py:289: UserWarning: This sequence already has </s>. In future versions this behavior may lead to duplicated eos tokens being added.\n",
      "  warnings.warn(\n"
     ]
    },
    {
     "data": {
      "text/plain": [
       "[{'answer': 'ID.Buzz',\n",
       "  'question': 'Qual é o nome da Kombi elétrica da Volkswagen no Brasil?'},\n",
       " {'answer': 'Elis Regina',\n",
       "  'question': 'Com quem a Volkswagen fez um comercial com ID.Buzz?'},\n",
       " {'answer': 'Belchior',\n",
       "  'question': \"Quem compôs a música 'Como Nossos Pais'?\"},\n",
       " {'answer': 'ginásio do Ibirapuera',\n",
       "  'question': 'Onde foi exibido o comercial ID.Buzz pela primeira vez no Brasil?'},\n",
       " {'answer': 'Ciro Possobom', 'question': 'Quem foi o CEO da VW no Brasil?'},\n",
       " {'answer': 'deep fake',\n",
       "  'question': 'Qual é o outro nome da técnica usada para criar conteúdo realista?'},\n",
       " {'answer': 'AlmapBBDO',\n",
       "  'question': \"Quem produziu o comercial da Volkswagen com a música 'Como Nossos Pais'?\"}]"
      ]
     },
     "execution_count": 1,
     "metadata": {},
     "output_type": "execute_result"
    }
   ],
   "source": [
    "\n",
    "from transformers import T5Tokenizer, T5ForConditionalGeneration\n",
    "\n",
    "import torch\n",
    "from pipelines import pipeline\n",
    "device = 'cuda' if torch.cuda.is_available() else 'cpu'\n",
    "\n",
    "\n",
    "model_id = 'vabatista/question-generation-t5-base-pt-br'\n",
    "tokenizer = T5Tokenizer.from_pretrained(model_id)\n",
    "model = T5ForConditionalGeneration.from_pretrained(model_id).to(device)\n",
    "\n",
    "\n",
    "nlp = pipeline(\"question-generation\", model=model, tokenizer=tokenizer, ans_model=model, ans_tokenizer=tokenizer)\n",
    "\n",
    "text = \"\"\"A Volkswagen anunciou a chegada do ID.Buzz, a Kombi elétrica, ao Brasil. Em campanha publicitária, a marca alemã usou tecnologia de inteligência artificial \n",
    "para criar um comercial com a cantora Elis Regina, falecida em 1982, e a sua filha, a também cantora Maria Rita. Ambas aparecem cantando juntas a música 'Como Nossos Pais', composta por Belchior e eternizada por Elis.\n",
    "O vídeo, que já foi divulgado nas redes sociais da marca, foi exibido pela primeira vez em comemoração de 70 anos da Volkswagen no ginásio do Ibirapuera, em São Paulo.\n",
    "Diante de 5 mil pessoas, entre funcionários e convidados, a apresentação ainda contou com a presença de Maria Rita, que também cantou ao vivo a canção e se emocionou bastante - \n",
    "a cantora chegou a chorar abraçada com Ciro Possobom, CEO da VW do Brasil.\n",
    "A técnica utilizada, conhecida também como \"deep fake\", aplica IA para criar conteúdos realistas. No caso, foi produzida pela agência AlmapBBDO.\"\"\"\n",
    "\n",
    "nlp(text)\n"
   ]
  },
  {
   "cell_type": "code",
   "execution_count": null,
   "metadata": {},
   "outputs": [
    {
     "name": "stdout",
     "output_type": "stream",
     "text": [
      "start\n"
     ]
    },
    {
     "name": "stderr",
     "output_type": "stream",
     "text": [
      "/home/r/anaconda3/envs/study/lib/python3.10/site-packages/transformers/generation/utils.py:1375: UserWarning: Using the model-agnostic default `max_length` (=20) to control the generation length. We recommend setting `max_new_tokens` to control the maximum length of the generation.\n",
      "  warnings.warn(\n"
     ]
    },
    {
     "name": "stdout",
     "output_type": "stream",
     "text": [
      "pergunta: Qual é o nome da Kombi elétrica que a Volkswagen anunciou no Brasil?\n",
      "resposta: ID.Buzz\n",
      "\n",
      "pergunta: Com quem a marca alemã usou tecnologia de inteligência artificial para criar um comercial?\n",
      "resposta: Elis Regina, falecida em 1982, e a sua filha, a também cantora Maria Rita.\n",
      "\n",
      "pergunta: Quem compôs a música 'Como Nossos Pais'?\n",
      "resposta: Belchior e eternizada por Elis.\n",
      "\n",
      "pergunta: Onde foi exibido o vídeo?\n",
      "resposta: o ginásio do Ibirapuera, em São Paulo.\n",
      "\n",
      "pergunta: Maria Rita cantou a música e se emocionou bastante com Ciro Possobom, CEO\n",
      "resposta: Maria Rita, que também cantou ao vivo a canção e se emocionou bastante - a cantora\n",
      "\n",
      "pergunta: O que o deep fake aplica?\n",
      "resposta: IA para criar conteúdos realistas\n",
      "\n",
      "pergunta: Qual agência produziu o caso?\n",
      "resposta: AlmapBBDO\n",
      "\n",
      "end, elapsed time: 4.0513 seconds\n"
     ]
    }
   ],
   "source": [
    "from time import time\n",
    "from nltk import sent_tokenize\n",
    "\n",
    "text = \"\"\"A Volkswagen anunciou a chegada do ID.Buzz, a Kombi elétrica, ao Brasil. Em campanha publicitária, a marca alemã usou tecnologia de inteligência artificial \n",
    "para criar um comercial com a cantora Elis Regina, falecida em 1982, e a sua filha, a também cantora Maria Rita. Ambas aparecem cantando juntas a música 'Como Nossos Pais', composta por Belchior e eternizada por Elis.\n",
    "O vídeo, que já foi divulgado nas redes sociais da marca, foi exibido pela primeira vez em comemoração de 70 anos da Volkswagen no ginásio do Ibirapuera, em São Paulo.\n",
    "Diante de 5 mil pessoas, entre funcionários e convidados, a apresentação ainda contou com a presença de Maria Rita, que também cantou ao vivo a canção e se emocionou bastante - \n",
    "a cantora chegou a chorar abraçada com Ciro Possobom, CEO da VW do Brasil.\n",
    "A técnica utilizada, conhecida também como \"deep fake\", aplica IA para criar conteúdos realistas. No caso, foi produzida pela agência AlmapBBDO.\"\"\"\n",
    "\n",
    "sentences = sent_tokenize(text)\n",
    "print('start')\n",
    "s = time()\n",
    "for sentence in sentences:\n",
    "    extract_answer = [f'extrair respostas: {sentence}']\n",
    "    inputs = tokenizer(sentence, return_tensors='pt').to(device)\n",
    "    # # Generate Summary\n",
    "    summary_ids = model.generate(inputs[\"input_ids\"])\n",
    "\n",
    "    answer = tokenizer.decode(summary_ids[0], skip_special_tokens=True, clean_up_tokenization_spaces=False)\n",
    "    # print(answer)\n",
    "    # t = text.replace(answer, f'<hl> {answer} <hl>')\n",
    "    t = sentence.replace(answer, f'<hl> {answer} <hl>')\n",
    "    # print(t)\n",
    "    inputs = tokenizer(f'gerar perguntas: {t}', return_tensors='pt').to(device)\n",
    "    # print(sentence.replace(answer, f' <hl> {answer} <hl> '))\n",
    "    summary_ids = model.generate(inputs['input_ids'])\n",
    "    question = tokenizer.decode(summary_ids[0], skip_special_tokens=True, clean_up_tokenization_spaces=False)\n",
    "\n",
    "    print(f'pergunta: {question}\\nresposta: {answer}\\n')\n",
    "print(f'end, elapsed time: {time()-s:.4f} seconds')"
   ]
  },
  {
   "cell_type": "code",
   "execution_count": null,
   "metadata": {},
   "outputs": [],
   "source": [
    "# pergunta: Qual é o nome da Kombi elétrica que a Volkswagen anunciou no Brasil?\n",
    "# resposta: ID.Buzz\n",
    "\n",
    "# pergunta: Com quem a marca alemã usou tecnologia de inteligência artificial para criar um comercial?\n",
    "# resposta: Elis Regina, falecida em 1982, e a sua filha, a também cantora Maria Rita.\n",
    "\n",
    "# pergunta: Quem compôs a música 'Como Nossos Pais'?\n",
    "# resposta: Belchior e eternizada por Elis.\n",
    "\n",
    "# pergunta: Onde foi exibido o vídeo?\n",
    "# resposta: o ginásio do Ibirapuera, em São Paulo.\n",
    "\n",
    "# pergunta: Maria Rita cantou a música e se emocionou bastante com Ciro Possobom, CEO\n",
    "# resposta: Maria Rita, que também cantou ao vivo a canção e se emocionou bastante - a cantora\n",
    "\n",
    "# pergunta: O que o deep fake aplica?\n",
    "# resposta: IA para criar conteúdos realistas\n",
    "\n",
    "# pergunta: Qual agência produziu o caso?\n",
    "# resposta: AlmapBBDO\n",
    "\n",
    "# end 4.377967119216919"
   ]
  }
 ],
 "metadata": {
  "kernelspec": {
   "display_name": "study",
   "language": "python",
   "name": "python3"
  },
  "language_info": {
   "codemirror_mode": {
    "name": "ipython",
    "version": 3
   },
   "file_extension": ".py",
   "mimetype": "text/x-python",
   "name": "python",
   "nbconvert_exporter": "python",
   "pygments_lexer": "ipython3",
   "version": "3.10.15"
  }
 },
 "nbformat": 4,
 "nbformat_minor": 2
}
